{
 "cells": [
  {
   "cell_type": "code",
   "execution_count": null,
   "metadata": {},
   "outputs": [],
   "source": [
    "import pandas as pd\n",
    "\n",
    "# plotting:\n",
    "import matplotlib.pyplot as plt\n",
    "import seaborn as sns\n",
    "sns.set_style(\"whitegrid\")"
   ]
  },
  {
   "cell_type": "code",
   "execution_count": null,
   "metadata": {},
   "outputs": [],
   "source": [
    "data_a = \"\"\n",
    "data_b = \"\""
   ]
  },
  {
   "cell_type": "code",
   "execution_count": null,
   "metadata": {},
   "outputs": [],
   "source": [
    "def _get_filtered_data(filename):\n",
    "    data = pd.read_csv(filename)\n",
    "    return data[data.trade_price != -1]\n",
    "\n",
    "\n",
    "def get_data(filedir):\n",
    "\n",
    "    data_a = _get_filtered_data(f\"{filedir}/balanced_state_deposit_trades.csv\")\n",
    "    data_b = _get_filtered_data(f\"{filedir}/balanced_state_withdraw_trades.csv\")\n",
    "    data_c = _get_filtered_data(f\"{filedir}/balanced_state_exchange_trades.csv\")\n",
    "\n",
    "    data_balanced = {\n",
    "        \"deposit\": data_a,\n",
    "        \"withdraw\": data_b,\n",
    "        \"exchange\": data_c,\n",
    "    }\n",
    "\n",
    "    data_a = _get_filtered_data(f\"{filedir}/unbalanced_state_deposit_trades.csv\")\n",
    "    data_b = _get_filtered_data(f\"{filedir}/unbalanced_state_withdraw_trades.csv\")\n",
    "    data_c = _get_filtered_data(f\"{filedir}/unbalanced_state_exchange_trades.csv\")\n",
    "\n",
    "    data_unbalanced = {\n",
    "        \"deposit\": data_a,\n",
    "        \"withdraw\": data_b,\n",
    "        \"exchange\": data_c,\n",
    "    }\n",
    "    \n",
    "    return data_balanced, data_unbalanced"
   ]
  },
  {
   "cell_type": "code",
   "execution_count": null,
   "metadata": {},
   "outputs": [],
   "source": [
    "def _plot_exchange_data(data, ax):\n",
    "\n",
    "    ax.plot(\n",
    "        data.amount_in.astype(float),\n",
    "        data.trade_price.astype(float),\n",
    "        'r.',\n",
    "    )\n",
    "    \n",
    "    ax.axhline(\n",
    "        y=data.expected_price.mean(), \n",
    "        color=\"red\", \n",
    "        linestyle=\"--\", \n",
    "        label=\"swap.last_price(1) pre USD > ETH [USD]\"\n",
    "    )\n",
    "    \n",
    "    \n",
    "def _plot_deposit_data(data, ax):\n",
    "    \n",
    "    ax.plot(\n",
    "        data.amount_in.astype(float),\n",
    "        data.trade_price.astype(float),\n",
    "        'g.',\n",
    "    )\n",
    "    \n",
    "    ax.axhline(\n",
    "        y=data.expected_price.mean(), \n",
    "        color=\"green\", \n",
    "        linestyle=\"--\", \n",
    "        label=\"swap.last_price(1) pre USD Deposit [USD]\"\n",
    "    )\n",
    "    \n",
    "    \n",
    "def _plot_withdraw_data(data, ax):\n",
    "    \n",
    "    ax.plot(\n",
    "        data.amount_in.astype(float),\n",
    "        data.trade_price.astype(float),\n",
    "        'b.',\n",
    "    )\n",
    "    \n",
    "    ax.axhline(\n",
    "        y=data.expected_price.mean(),\n",
    "        color=\"blue\", \n",
    "        linestyle=\"-.\", \n",
    "        label=\"swap.last_price(1) pre USD withdraw [USD]\"\n",
    "    )\n",
    "\n",
    "\n",
    "def _plot_all(data, ax):\n",
    "    \n",
    "    _plot_deposit_data(data[\"deposit\"], ax)\n",
    "    _plot_exchange_data(data[\"exchange\"], ax)\n",
    "    _plot_withdraw_data(data[\"withdraw\"], ax)    \n",
    "\n",
    "\n",
    "def plot(filedir, title):\n",
    "    \n",
    "    data_balanced, data_unbalanced = get_data(filedir)\n",
    "    fig, axes = plt.subplots(2,1, figsize=(20, 16))\n",
    "\n",
    "    data = [\n",
    "        (\"State: Balanced\", data_balanced),\n",
    "        (\"State: Unbalanced\", data_unbalanced),\n",
    "    ]\n",
    "\n",
    "    for ix, ax in enumerate(axes):\n",
    "        \n",
    "        _plot_all(data[ix][1], ax)\n",
    "\n",
    "        ax.set_xscale(\"log\")\n",
    "        ax.set_yscale(\"log\")\n",
    "\n",
    "        ax.set_xlabel(\"tokens in [Wei]\", fontsize=20)\n",
    "        ax.set_ylabel(\"swap.last_price(1) after trade [USD]\", fontsize=20)\n",
    "        ax.tick_params(axis='both', which='major', labelsize=20)\n",
    "        ax.tick_params(axis='x', which='major', colors='black')\n",
    "        ax.set_title(data[ix][0], fontsize=20)\n",
    "        ax.legend(fontsize=20)\n",
    "        \n",
    "        if title:\n",
    "            fig.suptitle(title, fontsize=20)\n",
    "        \n"
   ]
  },
  {
   "cell_type": "code",
   "execution_count": null,
   "metadata": {},
   "outputs": [],
   "source": [
    "plot(data_a, \"\")"
   ]
  },
  {
   "cell_type": "code",
   "execution_count": null,
   "metadata": {},
   "outputs": [],
   "source": []
  },
  {
   "cell_type": "code",
   "execution_count": null,
   "metadata": {},
   "outputs": [],
   "source": []
  }
 ],
 "metadata": {
  "kernelspec": {
   "display_name": "venv",
   "language": "python",
   "name": "python3"
  },
  "language_info": {
   "codemirror_mode": {
    "name": "ipython",
    "version": 3
   },
   "file_extension": ".py",
   "mimetype": "text/x-python",
   "name": "python",
   "nbconvert_exporter": "python",
   "pygments_lexer": "ipython3",
   "version": "3.10.4 (main, Aug 19 2022, 14:41:51) [Clang 12.0.5 (clang-1205.0.22.9)]"
  },
  "orig_nbformat": 4,
  "vscode": {
   "interpreter": {
    "hash": "d659bdbddffd42606e667cd929a8f9301acb58a2d2ea4383d2106082d15e6d83"
   }
  }
 },
 "nbformat": 4,
 "nbformat_minor": 2
}
